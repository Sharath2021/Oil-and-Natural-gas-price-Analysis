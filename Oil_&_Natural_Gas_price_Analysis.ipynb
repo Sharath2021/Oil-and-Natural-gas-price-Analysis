{
  "nbformat": 4,
  "nbformat_minor": 0,
  "metadata": {
    "colab": {
      "name": "Oil & Natural Gas price Analysis.ipynb",
      "provenance": [],
      "collapsed_sections": [],
      "mount_file_id": "1QdlZMy7QkkGCfc6fX4qCOUCT6R69Ildp",
      "authorship_tag": "ABX9TyMscIn8HI7W0fj+ix3ttUny",
      "include_colab_link": true
    },
    "kernelspec": {
      "name": "python3",
      "display_name": "Python 3"
    },
    "language_info": {
      "name": "python"
    }
  },
  "cells": [
    {
      "cell_type": "markdown",
      "metadata": {
        "id": "view-in-github",
        "colab_type": "text"
      },
      "source": [
        "<a href=\"https://colab.research.google.com/github/Sharath2021/Oil-and-Natural-gas-price-Analysis/blob/main/Oil_%26_Natural_Gas_price_Analysis.ipynb\" target=\"_parent\"><img src=\"https://colab.research.google.com/assets/colab-badge.svg\" alt=\"Open In Colab\"/></a>"
      ]
    },
    {
      "cell_type": "code",
      "metadata": {
        "colab": {
          "base_uri": "https://localhost:8080/"
        },
        "id": "0T5T8401Z-Mc",
        "outputId": "6f39fcf1-cefa-4fbd-bd65-edec56a08692"
      },
      "source": [
        "import pandas as pd\n",
        "import numpy as np\n",
        "%pylab inline"
      ],
      "execution_count": 35,
      "outputs": [
        {
          "output_type": "stream",
          "name": "stdout",
          "text": [
            "Populating the interactive namespace from numpy and matplotlib\n"
          ]
        }
      ]
    },
    {
      "cell_type": "code",
      "metadata": {
        "id": "b0czobhpb2vk"
      },
      "source": [
        "brent_oil_prices=pd.read_excel(\"https://www.eia.gov/dnav/pet/hist_xls/RBRTEd.xls\",sheet_name=\"Data 1\",\n",
        "                               skiprows=2455, names= ['Date', 'Brent_Price'])\n",
        "wti_oil_prices=pd.read_excel(\"https://www.eia.gov/dnav/pet/hist_xls/RWTCd.xls\",sheet_name=\"Data 1\",\n",
        "                               skiprows=2801, names= ['Date', 'WTI_Price'])\n",
        "gas_prices=pd.read_excel(\"https://www.eia.gov/dnav/ng/hist_xls/RNGWHHDd.xls\",sheet_name=\"Data 1\",\n",
        "                               skiprows=2, names= ['Date', 'Henry_Hub_Price'])"
      ],
      "execution_count": 36,
      "outputs": []
    },
    {
      "cell_type": "code",
      "metadata": {
        "colab": {
          "base_uri": "https://localhost:8080/"
        },
        "id": "XXojLfaegjsD",
        "outputId": "b63e09e0-53a7-4008-bb98-4f88652ad917"
      },
      "source": [
        "print(brent_oil_prices.shape)\n",
        "print(wti_oil_prices.shape)\n",
        "print(gas_prices.shape)"
      ],
      "execution_count": 37,
      "outputs": [
        {
          "output_type": "stream",
          "name": "stdout",
          "text": [
            "(6309, 2)\n",
            "(6247, 2)\n",
            "(6261, 2)\n"
          ]
        }
      ]
    },
    {
      "cell_type": "code",
      "metadata": {
        "colab": {
          "base_uri": "https://localhost:8080/",
          "height": 206
        },
        "id": "PeZ9Lugag7TS",
        "outputId": "6d98f7cb-4e4b-4897-efbd-d8b1c630fb91"
      },
      "source": [
        "brent_oil_prices.head()"
      ],
      "execution_count": 38,
      "outputs": [
        {
          "output_type": "execute_result",
          "data": {
            "text/html": [
              "<div>\n",
              "<style scoped>\n",
              "    .dataframe tbody tr th:only-of-type {\n",
              "        vertical-align: middle;\n",
              "    }\n",
              "\n",
              "    .dataframe tbody tr th {\n",
              "        vertical-align: top;\n",
              "    }\n",
              "\n",
              "    .dataframe thead th {\n",
              "        text-align: right;\n",
              "    }\n",
              "</style>\n",
              "<table border=\"1\" class=\"dataframe\">\n",
              "  <thead>\n",
              "    <tr style=\"text-align: right;\">\n",
              "      <th></th>\n",
              "      <th>Date</th>\n",
              "      <th>Brent_Price</th>\n",
              "    </tr>\n",
              "  </thead>\n",
              "  <tbody>\n",
              "    <tr>\n",
              "      <th>0</th>\n",
              "      <td>1997-01-07</td>\n",
              "      <td>24.76</td>\n",
              "    </tr>\n",
              "    <tr>\n",
              "      <th>1</th>\n",
              "      <td>1997-01-08</td>\n",
              "      <td>24.78</td>\n",
              "    </tr>\n",
              "    <tr>\n",
              "      <th>2</th>\n",
              "      <td>1997-01-09</td>\n",
              "      <td>24.83</td>\n",
              "    </tr>\n",
              "    <tr>\n",
              "      <th>3</th>\n",
              "      <td>1997-01-10</td>\n",
              "      <td>24.22</td>\n",
              "    </tr>\n",
              "    <tr>\n",
              "      <th>4</th>\n",
              "      <td>1997-01-13</td>\n",
              "      <td>23.41</td>\n",
              "    </tr>\n",
              "  </tbody>\n",
              "</table>\n",
              "</div>"
            ],
            "text/plain": [
              "        Date  Brent_Price\n",
              "0 1997-01-07        24.76\n",
              "1 1997-01-08        24.78\n",
              "2 1997-01-09        24.83\n",
              "3 1997-01-10        24.22\n",
              "4 1997-01-13        23.41"
            ]
          },
          "metadata": {},
          "execution_count": 38
        }
      ]
    },
    {
      "cell_type": "code",
      "metadata": {
        "colab": {
          "base_uri": "https://localhost:8080/",
          "height": 206
        },
        "id": "c9ikIRvUhHS6",
        "outputId": "b1b234f0-3489-4fbd-e215-c7418f787fcb"
      },
      "source": [
        "wti_oil_prices.head()"
      ],
      "execution_count": 39,
      "outputs": [
        {
          "output_type": "execute_result",
          "data": {
            "text/html": [
              "<div>\n",
              "<style scoped>\n",
              "    .dataframe tbody tr th:only-of-type {\n",
              "        vertical-align: middle;\n",
              "    }\n",
              "\n",
              "    .dataframe tbody tr th {\n",
              "        vertical-align: top;\n",
              "    }\n",
              "\n",
              "    .dataframe thead th {\n",
              "        text-align: right;\n",
              "    }\n",
              "</style>\n",
              "<table border=\"1\" class=\"dataframe\">\n",
              "  <thead>\n",
              "    <tr style=\"text-align: right;\">\n",
              "      <th></th>\n",
              "      <th>Date</th>\n",
              "      <th>WTI_Price</th>\n",
              "    </tr>\n",
              "  </thead>\n",
              "  <tbody>\n",
              "    <tr>\n",
              "      <th>0</th>\n",
              "      <td>1997-01-07</td>\n",
              "      <td>26.25</td>\n",
              "    </tr>\n",
              "    <tr>\n",
              "      <th>1</th>\n",
              "      <td>1997-01-08</td>\n",
              "      <td>26.55</td>\n",
              "    </tr>\n",
              "    <tr>\n",
              "      <th>2</th>\n",
              "      <td>1997-01-09</td>\n",
              "      <td>26.30</td>\n",
              "    </tr>\n",
              "    <tr>\n",
              "      <th>3</th>\n",
              "      <td>1997-01-10</td>\n",
              "      <td>26.15</td>\n",
              "    </tr>\n",
              "    <tr>\n",
              "      <th>4</th>\n",
              "      <td>1997-01-13</td>\n",
              "      <td>25.20</td>\n",
              "    </tr>\n",
              "  </tbody>\n",
              "</table>\n",
              "</div>"
            ],
            "text/plain": [
              "        Date  WTI_Price\n",
              "0 1997-01-07      26.25\n",
              "1 1997-01-08      26.55\n",
              "2 1997-01-09      26.30\n",
              "3 1997-01-10      26.15\n",
              "4 1997-01-13      25.20"
            ]
          },
          "metadata": {},
          "execution_count": 39
        }
      ]
    },
    {
      "cell_type": "code",
      "metadata": {
        "colab": {
          "base_uri": "https://localhost:8080/",
          "height": 206
        },
        "id": "bXX0_Yt2hWmH",
        "outputId": "464ad60d-0daf-428c-f39b-a85eb480c601"
      },
      "source": [
        "gas_prices.head()"
      ],
      "execution_count": 40,
      "outputs": [
        {
          "output_type": "execute_result",
          "data": {
            "text/html": [
              "<div>\n",
              "<style scoped>\n",
              "    .dataframe tbody tr th:only-of-type {\n",
              "        vertical-align: middle;\n",
              "    }\n",
              "\n",
              "    .dataframe tbody tr th {\n",
              "        vertical-align: top;\n",
              "    }\n",
              "\n",
              "    .dataframe thead th {\n",
              "        text-align: right;\n",
              "    }\n",
              "</style>\n",
              "<table border=\"1\" class=\"dataframe\">\n",
              "  <thead>\n",
              "    <tr style=\"text-align: right;\">\n",
              "      <th></th>\n",
              "      <th>Date</th>\n",
              "      <th>Henry_Hub_Price</th>\n",
              "    </tr>\n",
              "  </thead>\n",
              "  <tbody>\n",
              "    <tr>\n",
              "      <th>0</th>\n",
              "      <td>1997-01-07</td>\n",
              "      <td>3.82</td>\n",
              "    </tr>\n",
              "    <tr>\n",
              "      <th>1</th>\n",
              "      <td>1997-01-08</td>\n",
              "      <td>3.80</td>\n",
              "    </tr>\n",
              "    <tr>\n",
              "      <th>2</th>\n",
              "      <td>1997-01-09</td>\n",
              "      <td>3.61</td>\n",
              "    </tr>\n",
              "    <tr>\n",
              "      <th>3</th>\n",
              "      <td>1997-01-10</td>\n",
              "      <td>3.92</td>\n",
              "    </tr>\n",
              "    <tr>\n",
              "      <th>4</th>\n",
              "      <td>1997-01-13</td>\n",
              "      <td>4.00</td>\n",
              "    </tr>\n",
              "  </tbody>\n",
              "</table>\n",
              "</div>"
            ],
            "text/plain": [
              "        Date  Henry_Hub_Price\n",
              "0 1997-01-07             3.82\n",
              "1 1997-01-08             3.80\n",
              "2 1997-01-09             3.61\n",
              "3 1997-01-10             3.92\n",
              "4 1997-01-13             4.00"
            ]
          },
          "metadata": {},
          "execution_count": 40
        }
      ]
    },
    {
      "cell_type": "code",
      "metadata": {
        "colab": {
          "base_uri": "https://localhost:8080/"
        },
        "id": "KADWw9h-pPlQ",
        "outputId": "ba46579a-2414-4b19-a25f-b8f055090fa3"
      },
      "source": [
        "brent_oil_prices.isna().sum()"
      ],
      "execution_count": 41,
      "outputs": [
        {
          "output_type": "execute_result",
          "data": {
            "text/plain": [
              "Date           0\n",
              "Brent_Price    0\n",
              "dtype: int64"
            ]
          },
          "metadata": {},
          "execution_count": 41
        }
      ]
    },
    {
      "cell_type": "code",
      "metadata": {
        "colab": {
          "base_uri": "https://localhost:8080/"
        },
        "id": "__D31Md0pjxc",
        "outputId": "86391d7e-e8d8-4463-b983-8a1103f9c778"
      },
      "source": [
        "wti_oil_prices.isna().sum()"
      ],
      "execution_count": 42,
      "outputs": [
        {
          "output_type": "execute_result",
          "data": {
            "text/plain": [
              "Date         0\n",
              "WTI_Price    0\n",
              "dtype: int64"
            ]
          },
          "metadata": {},
          "execution_count": 42
        }
      ]
    },
    {
      "cell_type": "code",
      "metadata": {
        "colab": {
          "base_uri": "https://localhost:8080/"
        },
        "id": "YHxOZO0eqR-L",
        "outputId": "ac1f0c52-8947-4716-c1cd-367b93bddc5d"
      },
      "source": [
        "gas_prices.isna().sum()"
      ],
      "execution_count": 43,
      "outputs": [
        {
          "output_type": "execute_result",
          "data": {
            "text/plain": [
              "Date               0\n",
              "Henry_Hub_Price    1\n",
              "dtype: int64"
            ]
          },
          "metadata": {},
          "execution_count": 43
        }
      ]
    },
    {
      "cell_type": "code",
      "metadata": {
        "colab": {
          "base_uri": "https://localhost:8080/"
        },
        "id": "cDmEP5YJqu9M",
        "outputId": "c9c740b8-20e9-4259-9f2d-2b2102b2ca06"
      },
      "source": [
        "print (gas_prices[gas_prices[\"Henry_Hub_Price\"].isnull()])"
      ],
      "execution_count": 44,
      "outputs": [
        {
          "output_type": "stream",
          "name": "stdout",
          "text": [
            "           Date  Henry_Hub_Price\n",
            "5284 2018-01-05              NaN\n"
          ]
        }
      ]
    },
    {
      "cell_type": "code",
      "metadata": {
        "id": "9uk5C-lur3Mn"
      },
      "source": [
        "gas_prices.fillna(method='ffill', inplace=True)"
      ],
      "execution_count": 45,
      "outputs": []
    },
    {
      "cell_type": "code",
      "metadata": {
        "colab": {
          "base_uri": "https://localhost:8080/",
          "height": 282
        },
        "id": "iBVHgmWWs_xo",
        "outputId": "fbcf8a70-e76a-4c9e-ac31-a408cfb15e98"
      },
      "source": [
        "plot(brent_oil_prices['Brent_Price'])"
      ],
      "execution_count": 46,
      "outputs": [
        {
          "output_type": "execute_result",
          "data": {
            "text/plain": [
              "[<matplotlib.lines.Line2D at 0x7f9e40d6f950>]"
            ]
          },
          "metadata": {},
          "execution_count": 46
        },
        {
          "output_type": "display_data",
          "data": {
            "image/png": "[encoded data removed]",
            "text/plain": [
              "<Figure size 432x288 with 1 Axes>"
            ]
          },
          "metadata": {
            "needs_background": "light"
          }
        }
      ]
    },
    {
      "cell_type": "code",
      "metadata": {
        "colab": {
          "base_uri": "https://localhost:8080/",
          "height": 282
        },
        "id": "0Km_KrzeumXO",
        "outputId": "ec7f3762-6020-4ec3-d7a5-4dacdb745573"
      },
      "source": [
        "plot(wti_oil_prices['WTI_Price'],color= 'Yellow')"
      ],
      "execution_count": 49,
      "outputs": [
        {
          "output_type": "execute_result",
          "data": {
            "text/plain": [
              "[<matplotlib.lines.Line2D at 0x7f9e40640bd0>]"
            ]
          },
          "metadata": {},
          "execution_count": 49
        },
        {
          "output_type": "display_data",
          "data": {
            "image/png": "[encoded data removed]",
            "text/plain": [
              "<Figure size 432x288 with 1 Axes>"
            ]
          },
          "metadata": {
            "needs_background": "light"
          }
        }
      ]
    },
    {
      "cell_type": "code",
      "metadata": {
        "colab": {
          "base_uri": "https://localhost:8080/",
          "height": 282
        },
        "id": "znfEGlypzjGy",
        "outputId": "af9204c6-b954-41ef-d3a1-fd067d55d575"
      },
      "source": [
        "plot(brent_oil_prices['Brent_Price'], color='red'); plot(wti_oil_prices['WTI_Price'],color= 'Yellow')"
      ],
      "execution_count": 50,
      "outputs": [
        {
          "output_type": "execute_result",
          "data": {
            "text/plain": [
              "[<matplotlib.lines.Line2D at 0x7f9e40daca90>]"
            ]
          },
          "metadata": {},
          "execution_count": 50
        },
        {
          "output_type": "display_data",
          "data": {
            "image/png": "[encoded data removed]",
            "text/plain": [
              "<Figure size 432x288 with 1 Axes>"
            ]
          },
          "metadata": {
            "needs_background": "light"
          }
        }
      ]
    },
    {
      "cell_type": "code",
      "metadata": {
        "colab": {
          "base_uri": "https://localhost:8080/",
          "height": 286
        },
        "id": "UxJLiLXzz1dj",
        "outputId": "8a7dd733-2038-4879-a639-7deb74ff77df"
      },
      "source": [
        "plot(gas_prices[\"Henry_Hub_Price\"])"
      ],
      "execution_count": 53,
      "outputs": [
        {
          "output_type": "execute_result",
          "data": {
            "text/plain": [
              "[<matplotlib.lines.Line2D at 0x7f9e4065e410>]"
            ]
          },
          "metadata": {},
          "execution_count": 53
        },
        {
          "output_type": "display_data",
          "data": {
            "image/png": "[encoded data removed]",
            "text/plain": [
              "<Figure size 432x288 with 1 Axes>"
            ]
          },
          "metadata": {
            "needs_background": "light"
          }
        }
      ]
    },
    {
      "cell_type": "code",
      "metadata": {
        "colab": {
          "base_uri": "https://localhost:8080/",
          "height": 265
        },
        "id": "JZnvWKZv0dhv",
        "outputId": "5dd698f2-33b4-47ff-d6bd-c571c409c2bf"
      },
      "source": [
        "hist(brent_oil_prices['Brent_Price'], bins=100);"
      ],
      "execution_count": 55,
      "outputs": [
        {
          "output_type": "display_data",
          "data": {
            "image/png": "[encoded data removed]",
            "text/plain": [
              "<Figure size 432x288 with 1 Axes>"
            ]
          },
          "metadata": {
            "needs_background": "light"
          }
        }
      ]
    },
    {
      "cell_type": "code",
      "metadata": {
        "colab": {
          "base_uri": "https://localhost:8080/",
          "height": 265
        },
        "id": "UqgU0klw2mVn",
        "outputId": "d7e2443a-3e78-43ba-e787-1182e98fc951"
      },
      "source": [
        "hist(wti_oil_prices['WTI_Price'], bins=100);"
      ],
      "execution_count": 56,
      "outputs": [
        {
          "output_type": "display_data",
          "data": {
            "image/png": "[encoded data removed]",
            "text/plain": [
              "<Figure size 432x288 with 1 Axes>"
            ]
          },
          "metadata": {
            "needs_background": "light"
          }
        }
      ]
    },
    {
      "cell_type": "code",
      "metadata": {
        "colab": {
          "base_uri": "https://localhost:8080/",
          "height": 265
        },
        "id": "GNUbaSAo23cQ",
        "outputId": "fa4186ac-8fc3-4f8e-f901-4734805fff8b"
      },
      "source": [
        "hist(brent_oil_prices['Brent_Price'], bins=100);hist(wti_oil_prices['WTI_Price'], bins=100);"
      ],
      "execution_count": 57,
      "outputs": [
        {
          "output_type": "display_data",
          "data": {
            "image/png": "[encoded data removed]",
            "text/plain": [
              "<Figure size 432x288 with 1 Axes>"
            ]
          },
          "metadata": {
            "needs_background": "light"
          }
        }
      ]
    }
  ]
}